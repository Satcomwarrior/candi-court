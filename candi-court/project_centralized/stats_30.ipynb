{
 "cells": [
  {
   "cell_type": "markdown",
   "metadata": {},
   "source": [
    "# GPU Metrics Utilization Summary"
   ]
  },
  {
   "cell_type": "markdown",
   "metadata": {},
   "source": [
    "This recipe provides a summary of different GPU metrics for up to REPLACE_N longest ranges, as specified by the `--longest-n` option."
   ]
  },
  {
   "cell_type": "code",
   "execution_count": null,
   "metadata": {},
   "outputs": [],
   "source": [
    "import pandas as pd\n",
    "import plotly.offline as pyo\n",
    "\n",
    "from IPython.display import display, HTML, Markdown\n",
    "\n",
    "import nsys_display\n",
    "\n",
    "display(HTML(\"<style>.container { width:95% !important; }</style>\"))\n",
    "pd.set_option('display.max_colwidth', None)\n",
    "pd.set_option('display.max_rows', None)\n",
    "pd.options.display.float_format = '{:.1f}'.format\n",
    "pyo.init_notebook_mode()"
   ]
  },
  {
   "cell_type": "markdown",
   "metadata": {},
   "source": [
    "## Per-rank statistics"
   ]
  },
  {
   "cell_type": "markdown",
   "metadata": {},
   "source": [
    "The table shows the GPU metrics statistics for the selected drop-down values. Note that:\n",
    "* All time values are in nanoseconds.\n",
    "* 'Q1', 'Med', and 'Q3' are the 25th, 50th, and 75th percentiles of the data set, respectively.\n",
    "* If the `--per-*` option was used, the statistics represent an aggregation of the statistics generated per range instance. In this case, 'Q1', 'Med', and 'Q3' are approximated as the minimum of Q1, the median of medians, and the maximum of Q3 for each unique range name."
   ]
  },
  {
   "cell_type": "code",
   "execution_count": null,
   "metadata": {},
   "outputs": [],
   "source": [
    "stats_df = pd.read_parquet(\"rank_stats.parquet\")\n",
    "\n",
    "group_by_columns = [\"Rank\", \"GPU ID\"]\n",
    "if \"Name\" in stats_df.index.names:\n",
    "    group_by_columns += [\"Name\"]\n",
    "\n",
    "nsys_display.display_stats_per_column(stats_df, group_by_columns)"
   ]
  },
  {
   "cell_type": "markdown",
   "metadata": {},
   "source": [
    "## Top and bottom ranges per rank"
   ]
  },
  {
   "cell_type": "markdown",
   "metadata": {},
   "source": [
    "The bar charts below display the top and bottom N ranges, either for the projected NVTX range or the kernel, based on the selected `--per-*` option. Ranges with a value of 0 will not be shown in the chart.\n",
    "\n",
    "Use the slider to adjust the value of N."
   ]
  },
  {
   "cell_type": "code",
   "execution_count": null,
   "metadata": {},
   "outputs": [],
   "source": [
    "if \"Name\" not in stats_df.index.names:\n",
    "    display(Markdown(\"No range data available. Please use one of the `--per` options to display this graph.\"))\n",
    "else:\n",
    "    nsys_display.display_top_bottom_n(stats_df, [\"Rank\", \"GPU ID\", \"Metric Name\"], \"Name\", \"Mean\", xaxis_title=\"Range\", yaxis_title=\"Value\", title=\"Average metric value\")"
   ]
  },
  {
   "cell_type": "markdown",
   "metadata": {},
   "source": [
    "## Files"
   ]
  },
  {
   "cell_type": "markdown",
   "metadata": {},
   "source": [
    "The table associates each rank number with the original filename. Ranks are assigned assuming that the file names include the rank with sufficient zero padding for proper sorting. Otherwise, the actual rank may differ from the assigned ID."
   ]
  },
  {
   "cell_type": "code",
   "execution_count": null,
   "metadata": {},
   "outputs": [],
   "source": [
    "files_df = pd.read_parquet(\"files.parquet\")\n",
    "display(files_df)"
   ]
  }
 ],
 "metadata": {
  "kernelspec": {
   "display_name": "Python 3",
   "language": "python",
   "name": "python3"
  },
  "language_info": {
   "name": "python",
   "version": "3.10.5"
  },
  "orig_nbformat": 4,
  "vscode": {
   "interpreter": {
    "hash": "7e1998ff7f8aa20ada591c520b972326324e5ea05489af9e422744c7c09f6dad"
   }
  }
 },
 "nbformat": 4,
 "nbformat_minor": 2
}
