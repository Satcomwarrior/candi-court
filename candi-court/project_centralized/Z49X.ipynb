{
  "cells": [
    {
      "cell_type": "markdown",
      "id": "d0c1e93d",
      "metadata": {},
      "source": []
    }
  ],
  "metadata": {
    "language_info": {
      "name": "python"
    }
  },
  "nbformat": 4,
  "nbformat_minor": 5
}
